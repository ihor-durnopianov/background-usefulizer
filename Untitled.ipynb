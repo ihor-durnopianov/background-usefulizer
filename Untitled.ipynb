{
 "cells": [
  {
   "cell_type": "code",
   "execution_count": 358,
   "id": "fiscal-short",
   "metadata": {},
   "outputs": [],
   "source": [
    "import requests\n",
    "import pandas as pd\n",
    "import cachetools\n",
    "import matplotlib.pyplot as plt\n",
    "from matplotlib import dates"
   ]
  },
  {
   "cell_type": "code",
   "execution_count": 86,
   "id": "graphic-aluminum",
   "metadata": {},
   "outputs": [],
   "source": [
    "resp = requests.get(\"https://api.binance.com/api/v3/exchangeInfo\")"
   ]
  },
  {
   "cell_type": "code",
   "execution_count": null,
   "id": "impossible-archive",
   "metadata": {},
   "outputs": [],
   "source": [
    "# Seems 1200 requests per minute"
   ]
  },
  {
   "cell_type": "code",
   "execution_count": null,
   "id": "noted-diploma",
   "metadata": {},
   "outputs": [],
   "source": []
  },
  {
   "cell_type": "code",
   "execution_count": null,
   "id": "worldwide-cleaners",
   "metadata": {},
   "outputs": [],
   "source": []
  },
  {
   "cell_type": "code",
   "execution_count": 204,
   "id": "virtual-stable",
   "metadata": {},
   "outputs": [],
   "source": [
    "file = next(pathlib.Path(\"/home/ihor/Desktop\").iterdir())"
   ]
  },
  {
   "cell_type": "code",
   "execution_count": null,
   "id": "protective-mambo",
   "metadata": {},
   "outputs": [],
   "source": [
    "pd.Series.sample()"
   ]
  },
  {
   "cell_type": "code",
   "execution_count": 210,
   "id": "defined-format",
   "metadata": {},
   "outputs": [
    {
     "data": {
      "text/plain": [
       "259        ETCUSDT\n",
       "187        RVNUSDT\n",
       "167    BCHDOWNUSDT\n",
       "34       SXPUPUSDT\n",
       "176      1INCHUSDT\n",
       "157        FIOUSDT\n",
       "66         PNTUSDT\n",
       "151        GXSUSDT\n",
       "40         ONGUSDT\n",
       "110      BTCSTUSDT\n",
       "57        HARDUSDT\n",
       "22         XRPUSDT\n",
       "dtype: object"
      ]
     },
     "execution_count": 210,
     "metadata": {},
     "output_type": "execute_result"
    }
   ],
   "source": [
    "pd.Series(symbol for symbol in symbols).sample(n=12, replace=False)"
   ]
  },
  {
   "cell_type": "code",
   "execution_count": 147,
   "id": "covered-facility",
   "metadata": {},
   "outputs": [],
   "source": [
    "@cachetools.cached(cachetools.TTLCache(1, ttl=60 * 60))\n",
    "def _get_symbols():\n",
    "    response = requests.get(\"https://api.binance.com/api/v3/exchangeInfo\")\n",
    "    if not response.ok:\n",
    "        # Should I do something here?\n",
    "        pass\n",
    "    return {\n",
    "        entry[\"symbol\"] for entry in response.json()[\"symbols\"]\n",
    "        if entry[\"quoteAsset\"] == \"USDT\"\n",
    "    }"
   ]
  },
  {
   "cell_type": "code",
   "execution_count": 207,
   "id": "overhead-fortune",
   "metadata": {},
   "outputs": [],
   "source": [
    "symbols = _get_symbols()"
   ]
  },
  {
   "cell_type": "code",
   "execution_count": null,
   "id": "aquatic-diameter",
   "metadata": {},
   "outputs": [],
   "source": []
  },
  {
   "cell_type": "code",
   "execution_count": null,
   "id": "refined-rescue",
   "metadata": {},
   "outputs": [],
   "source": []
  },
  {
   "cell_type": "code",
   "execution_count": 285,
   "id": "personalized-parking",
   "metadata": {},
   "outputs": [],
   "source": [
    "series = _fetch_prices(\"DREPUSDT\")"
   ]
  },
  {
   "cell_type": "code",
   "execution_count": null,
   "id": "australian-destiny",
   "metadata": {},
   "outputs": [],
   "source": []
  },
  {
   "cell_type": "code",
   "execution_count": 349,
   "id": "pacific-outreach",
   "metadata": {},
   "outputs": [],
   "source": [
    "def _make_summary(series):\n",
    "    return (\n",
    "        \"Asset: %s (%s)\"\n",
    "        \"\\nDays: %s\"\n",
    "        \"\\nSince: %s\"\n",
    "        \"\\nUntil: %s\"\n",
    "    ) % (\n",
    "        series.name.replace(\"USDT\", \"\"),\n",
    "        series.name,\n",
    "        len(series),\n",
    "        series.index.min(),\n",
    "        series.index.max(),\n",
    "    )"
   ]
  },
  {
   "cell_type": "code",
   "execution_count": 350,
   "id": "preceding-institution",
   "metadata": {},
   "outputs": [
    {
     "name": "stdout",
     "output_type": "stream",
     "text": [
      "Asset: DREP (DREPUSDT)\n",
      "Days: 418\n",
      "Since: 2020-01-17 00:00:00\n",
      "Until: 2021-03-09 00:00:00\n"
     ]
    }
   ],
   "source": [
    "print(_make_summary(series))"
   ]
  },
  {
   "cell_type": "code",
   "execution_count": null,
   "id": "operating-habitat",
   "metadata": {},
   "outputs": [],
   "source": [
    "dates.DateFormatter()"
   ]
  },
  {
   "cell_type": "code",
   "execution_count": 374,
   "id": "super-circumstances",
   "metadata": {},
   "outputs": [
    {
     "data": {
      "text/plain": [
       "'2021-03-08T23-39-14'"
      ]
     },
     "execution_count": 374,
     "metadata": {},
     "output_type": "execute_result"
    }
   ],
   "source": [
    "n.strftime(\"%Y-%m-%dT%H-%M-%S\")"
   ]
  },
  {
   "cell_type": "code",
   "execution_count": 369,
   "id": "revolutionary-aberdeen",
   "metadata": {},
   "outputs": [],
   "source": [
    "n = pd.Timestamp.now()"
   ]
  },
  {
   "cell_type": "code",
   "execution_count": 367,
   "id": "psychological-procedure",
   "metadata": {},
   "outputs": [
    {
     "data": {
      "image/png": "[encoded data removed]",
      "text/plain": [
       "<Figure size 432x288 with 1 Axes>"
      ]
     },
     "metadata": {
      "needs_background": "light"
     },
     "output_type": "display_data"
    }
   ],
   "source": [
    "fontsize = 6\n",
    "preprocessed = (\n",
    "    series\n",
    "        .tail(180)\n",
    "        .pipe(lambda series: series / series[-1])\n",
    ")\n",
    "fig = plt.figure()\n",
    "preprocessed.plot(\n",
    "    fontsize=fontsize,\n",
    "    linewidth=1 / 2,\n",
    ")\n",
    "plt.xlabel(None)\n",
    "plt.ylim(0, 2)\n",
    "plt.text(\n",
    "    0.675, 0.85, _make_summary(preprocessed),\n",
    "    transform=fig.axes[0].transAxes,\n",
    "    fontsize=fontsize,\n",
    ")\n",
    "# plt.xticks(rotation=-12)\n",
    "# fig.axes[0].xaxis.set_major_formatter(dates.DateFormatter(\"%b %d, %Y\"))\n",
    "fig.savefig(\n",
    "    \"/home/ihor/Pictures/figure.png\",\n",
    "    dpi=300,\n",
    "    facecolor=\"white\",\n",
    "#     bbox_inches=0,\n",
    "    bbox_inches=\"tight\",\n",
    "    pad_inches=1 / 32,\n",
    "#     edgecolor=\"red\"\n",
    "#     transparent=True,\n",
    ")"
   ]
  },
  {
   "cell_type": "code",
   "execution_count": null,
   "id": "impressed-biodiversity",
   "metadata": {},
   "outputs": [],
   "source": []
  },
  {
   "cell_type": "code",
   "execution_count": null,
   "id": "approved-banks",
   "metadata": {},
   "outputs": [],
   "source": []
  },
  {
   "cell_type": "code",
   "execution_count": null,
   "id": "domestic-secondary",
   "metadata": {},
   "outputs": [],
   "source": []
  },
  {
   "cell_type": "code",
   "execution_count": null,
   "id": "standing-reynolds",
   "metadata": {},
   "outputs": [],
   "source": []
  },
  {
   "cell_type": "code",
   "execution_count": null,
   "id": "killing-wireless",
   "metadata": {},
   "outputs": [],
   "source": []
  },
  {
   "cell_type": "code",
   "execution_count": null,
   "id": "first-philip",
   "metadata": {},
   "outputs": [],
   "source": []
  },
  {
   "cell_type": "code",
   "execution_count": null,
   "id": "purple-consequence",
   "metadata": {},
   "outputs": [],
   "source": []
  },
  {
   "cell_type": "code",
   "execution_count": null,
   "id": "union-feeding",
   "metadata": {},
   "outputs": [],
   "source": []
  },
  {
   "cell_type": "code",
   "execution_count": null,
   "id": "built-professional",
   "metadata": {},
   "outputs": [],
   "source": []
  },
  {
   "cell_type": "code",
   "execution_count": null,
   "id": "published-heading",
   "metadata": {},
   "outputs": [],
   "source": []
  },
  {
   "cell_type": "code",
   "execution_count": null,
   "id": "stylish-christian",
   "metadata": {},
   "outputs": [],
   "source": []
  },
  {
   "cell_type": "code",
   "execution_count": 215,
   "id": "polished-booking",
   "metadata": {},
   "outputs": [],
   "source": [
    "def _make_plot(series):\n",
    "    return plot"
   ]
  },
  {
   "cell_type": "code",
   "execution_count": null,
   "id": "elect-passing",
   "metadata": {},
   "outputs": [],
   "source": []
  },
  {
   "cell_type": "code",
   "execution_count": null,
   "id": "hazardous-drilling",
   "metadata": {},
   "outputs": [],
   "source": []
  },
  {
   "cell_type": "code",
   "execution_count": 171,
   "id": "ceramic-absolute",
   "metadata": {},
   "outputs": [],
   "source": []
  },
  {
   "cell_type": "code",
   "execution_count": 284,
   "id": "minute-blackberry",
   "metadata": {},
   "outputs": [],
   "source": [
    "@cachetools.cached(cachetools.TTLCache(1024, ttl=60 * 60))\n",
    "def _fetch_prices(symbol):\n",
    "    response = requests.get(\"https://api.binance.com/api/v3/klines\", params={\n",
    "        \"symbol\": symbol,\n",
    "        \"interval\": \"1d\",\n",
    "        \"limit\": 1000,\n",
    "    })\n",
    "    if not response.ok:\n",
    "        # Same here...\n",
    "        pass\n",
    "    return _make_series(response).rename(symbol)"
   ]
  },
  {
   "cell_type": "code",
   "execution_count": null,
   "id": "decent-command",
   "metadata": {},
   "outputs": [],
   "source": []
  },
  {
   "cell_type": "code",
   "execution_count": null,
   "id": "strategic-wesley",
   "metadata": {},
   "outputs": [],
   "source": []
  },
  {
   "cell_type": "code",
   "execution_count": 51,
   "id": "vertical-bailey",
   "metadata": {},
   "outputs": [],
   "source": [
    "resp = requests.get(\"https://api.binance.com/api/v3/klines\", params={\n",
    "    \"symbol\": \"ETHBTC\",\n",
    "    \"interval\": \"1d\",\n",
    "    \"limit\": 1000,\n",
    "})"
   ]
  },
  {
   "cell_type": "code",
   "execution_count": 83,
   "id": "realistic-disorder",
   "metadata": {},
   "outputs": [],
   "source": [
    "def _make_series(response):\n",
    "    return (\n",
    "        pd.DataFrame(response.json())\n",
    "            [[4, 6]]\n",
    "            .set_axis([\"price\", \"time\"], axis=1)\n",
    "            .assign(time=lambda frame: (\n",
    "                frame[\"time\"]\n",
    "                    .apply(pd.Timestamp, unit=\"ms\")\n",
    "                    .apply(lambda entry: entry + pd.Timedelta(1, unit=\"ms\"))\n",
    "            ))\n",
    "            .astype({\"price\": float})\n",
    "            .set_index(\"time\").squeeze()\n",
    "    )"
   ]
  },
  {
   "cell_type": "markdown",
   "id": "existing-turkey",
   "metadata": {},
   "source": [
    "  1499040000000,      // Open time\n",
    "    \"0.01634790\",       // Open\n",
    "    \"0.80000000\",       // High\n",
    "    \"0.01575800\",       // Low\n",
    "    \"0.01577100\",       // Close\n",
    "    \"148976.11427815\",  // Volume\n",
    "    1499644799999,      // Close time\n",
    "    \"2434.19055334\",    // Quote asset volume\n",
    "    308,                // Number of trades\n",
    "    \"1756.87402397\",    // Taker buy base asset volume\n",
    "    \"28.46694368\",      // Taker buy quote asset volume\n",
    "    \"17928899.62484339\" // Ignore."
   ]
  },
  {
   "cell_type": "code",
   "execution_count": 57,
   "id": "comfortable-petersburg",
   "metadata": {},
   "outputs": [],
   "source": [
    "data = pd.DataFrame(\n",
    "    resp.json(),\n",
    "#     columns=[\"open_time\", \"open\", \"high\", \"low\", \"close\", \"volume\", \"close_time\", \"quote_asset_volume\", \"number_of_trades\", \"-\", \"-\", \"-\"]\n",
    ")"
   ]
  },
  {
   "cell_type": "code",
   "execution_count": null,
   "id": "german-opera",
   "metadata": {},
   "outputs": [],
   "source": [
    "# pd.DataFrame.set_axis()"
   ]
  },
  {
   "cell_type": "code",
   "execution_count": 70,
   "id": "subject-honduras",
   "metadata": {},
   "outputs": [
    {
     "data": {
      "text/plain": [
       "Timestamp('2018-06-13 00:00:00')"
      ]
     },
     "execution_count": 70,
     "metadata": {},
     "output_type": "execute_result"
    }
   ],
   "source": [
    "pd.Timestamp(data.iloc[0, 0], unit=\"ms\")"
   ]
  },
  {
   "cell_type": "code",
   "execution_count": 82,
   "id": "julian-device",
   "metadata": {},
   "outputs": [
    {
     "data": {
      "text/plain": [
       "time\n",
       "2018-06-14    0.075580\n",
       "2018-06-15    0.078267\n",
       "2018-06-16    0.076348\n",
       "2018-06-17    0.076593\n",
       "2018-06-18    0.077072\n",
       "                ...   \n",
       "2021-03-05    0.031817\n",
       "2021-03-06    0.031344\n",
       "2021-03-07    0.033762\n",
       "2021-03-08    0.033872\n",
       "2021-03-09    0.034543\n",
       "Name: price, Length: 1000, dtype: float64"
      ]
     },
     "execution_count": 82,
     "metadata": {},
     "output_type": "execute_result"
    }
   ],
   "source": [
    "(\n",
    "    data\n",
    "        [[4, 6]]\n",
    "        .set_axis([\"price\", \"time\"], axis=1)\n",
    "        .assign(time=lambda frame: (\n",
    "            frame[\"time\"]\n",
    "                .apply(pd.Timestamp, unit=\"ms\")\n",
    "                .apply(lambda entry: entry + pd.Timedelta(1, unit=\"ms\"))\n",
    "        ))\n",
    "        .astype({\"price\": float})\n",
    "        .set_index(\"time\").squeeze()\n",
    ")"
   ]
  },
  {
   "cell_type": "code",
   "execution_count": 53,
   "id": "announced-mumbai",
   "metadata": {},
   "outputs": [
    {
     "data": {
      "text/html": [
       "<div>\n",
       "<style scoped>\n",
       "    .dataframe tbody tr th:only-of-type {\n",
       "        vertical-align: middle;\n",
       "    }\n",
       "\n",
       "    .dataframe tbody tr th {\n",
       "        vertical-align: top;\n",
       "    }\n",
       "\n",
       "    .dataframe thead th {\n",
       "        text-align: right;\n",
       "    }\n",
       "</style>\n",
       "<table border=\"1\" class=\"dataframe\">\n",
       "  <thead>\n",
       "    <tr style=\"text-align: right;\">\n",
       "      <th></th>\n",
       "      <th>open_time</th>\n",
       "      <th>close_time</th>\n",
       "      <th>test</th>\n",
       "    </tr>\n",
       "  </thead>\n",
       "  <tbody>\n",
       "    <tr>\n",
       "      <th>0</th>\n",
       "      <td>2018-06-13</td>\n",
       "      <td>2018-06-13 23:59:59.999</td>\n",
       "      <td>2018-06-14</td>\n",
       "    </tr>\n",
       "    <tr>\n",
       "      <th>1</th>\n",
       "      <td>2018-06-14</td>\n",
       "      <td>2018-06-14 23:59:59.999</td>\n",
       "      <td>2018-06-15</td>\n",
       "    </tr>\n",
       "    <tr>\n",
       "      <th>2</th>\n",
       "      <td>2018-06-15</td>\n",
       "      <td>2018-06-15 23:59:59.999</td>\n",
       "      <td>2018-06-16</td>\n",
       "    </tr>\n",
       "    <tr>\n",
       "      <th>3</th>\n",
       "      <td>2018-06-16</td>\n",
       "      <td>2018-06-16 23:59:59.999</td>\n",
       "      <td>2018-06-17</td>\n",
       "    </tr>\n",
       "    <tr>\n",
       "      <th>4</th>\n",
       "      <td>2018-06-17</td>\n",
       "      <td>2018-06-17 23:59:59.999</td>\n",
       "      <td>2018-06-18</td>\n",
       "    </tr>\n",
       "    <tr>\n",
       "      <th>...</th>\n",
       "      <td>...</td>\n",
       "      <td>...</td>\n",
       "      <td>...</td>\n",
       "    </tr>\n",
       "    <tr>\n",
       "      <th>995</th>\n",
       "      <td>2021-03-04</td>\n",
       "      <td>2021-03-04 23:59:59.999</td>\n",
       "      <td>2021-03-05</td>\n",
       "    </tr>\n",
       "    <tr>\n",
       "      <th>996</th>\n",
       "      <td>2021-03-05</td>\n",
       "      <td>2021-03-05 23:59:59.999</td>\n",
       "      <td>2021-03-06</td>\n",
       "    </tr>\n",
       "    <tr>\n",
       "      <th>997</th>\n",
       "      <td>2021-03-06</td>\n",
       "      <td>2021-03-06 23:59:59.999</td>\n",
       "      <td>2021-03-07</td>\n",
       "    </tr>\n",
       "    <tr>\n",
       "      <th>998</th>\n",
       "      <td>2021-03-07</td>\n",
       "      <td>2021-03-07 23:59:59.999</td>\n",
       "      <td>2021-03-08</td>\n",
       "    </tr>\n",
       "    <tr>\n",
       "      <th>999</th>\n",
       "      <td>2021-03-08</td>\n",
       "      <td>2021-03-08 23:59:59.999</td>\n",
       "      <td>2021-03-09</td>\n",
       "    </tr>\n",
       "  </tbody>\n",
       "</table>\n",
       "<p>1000 rows × 3 columns</p>\n",
       "</div>"
      ],
      "text/plain": [
       "     open_time              close_time       test\n",
       "0   2018-06-13 2018-06-13 23:59:59.999 2018-06-14\n",
       "1   2018-06-14 2018-06-14 23:59:59.999 2018-06-15\n",
       "2   2018-06-15 2018-06-15 23:59:59.999 2018-06-16\n",
       "3   2018-06-16 2018-06-16 23:59:59.999 2018-06-17\n",
       "4   2018-06-17 2018-06-17 23:59:59.999 2018-06-18\n",
       "..         ...                     ...        ...\n",
       "995 2021-03-04 2021-03-04 23:59:59.999 2021-03-05\n",
       "996 2021-03-05 2021-03-05 23:59:59.999 2021-03-06\n",
       "997 2021-03-06 2021-03-06 23:59:59.999 2021-03-07\n",
       "998 2021-03-07 2021-03-07 23:59:59.999 2021-03-08\n",
       "999 2021-03-08 2021-03-08 23:59:59.999 2021-03-09\n",
       "\n",
       "[1000 rows x 3 columns]"
      ]
     },
     "execution_count": 53,
     "metadata": {},
     "output_type": "execute_result"
    }
   ],
   "source": [
    "(\n",
    "    data\n",
    "        .assign(open_time=lambda frame: frame[\"open_time\"].apply(pd.Timestamp, unit=\"ms\"))\n",
    "        .assign(close_time=lambda frame: frame[\"close_time\"].apply(pd.Timestamp, unit=\"ms\"))\n",
    "#         .assign(close_time=lambda frame: frame[\"close_time\"].)\n",
    "        [[\"open_time\", \"close_time\"]]\n",
    "        .assign(test=lambda frame: frame[\"close_time\"].apply(lambda entry: entry.ceil(\"s\")))\n",
    ")"
   ]
  },
  {
   "cell_type": "code",
   "execution_count": null,
   "id": "humanitarian-raleigh",
   "metadata": {},
   "outputs": [],
   "source": []
  },
  {
   "cell_type": "code",
   "execution_count": null,
   "id": "smart-orbit",
   "metadata": {},
   "outputs": [],
   "source": []
  },
  {
   "cell_type": "code",
   "execution_count": null,
   "id": "scheduled-wagner",
   "metadata": {},
   "outputs": [],
   "source": []
  },
  {
   "cell_type": "code",
   "execution_count": null,
   "id": "traditional-emphasis",
   "metadata": {},
   "outputs": [],
   "source": []
  }
 ],
 "metadata": {
  "kernelspec": {
   "display_name": "Python 3",
   "language": "python",
   "name": "python3"
  },
  "language_info": {
   "codemirror_mode": {
    "name": "ipython",
    "version": 3
   },
   "file_extension": ".py",
   "mimetype": "text/x-python",
   "name": "python",
   "nbconvert_exporter": "python",
   "pygments_lexer": "ipython3",
   "version": "3.9.2"
  }
 },
 "nbformat": 4,
 "nbformat_minor": 5
}
